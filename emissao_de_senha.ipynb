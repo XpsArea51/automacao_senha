{
 "cells": [
  {
   "cell_type": "code",
   "execution_count": 7,
   "id": "89704394",
   "metadata": {
    "scrolled": false
   },
   "outputs": [],
   "source": [
    "from selenium import webdriver\n",
    "from webdriver_manager.chrome import ChromeDriverManager\n",
    "from selenium.webdriver.chrome.service import Service\n",
    "from selenium.webdriver.common.by import By\n",
    "from selenium.webdriver.support.ui import WebDriverWait\n",
    "from selenium.webdriver.support import expected_conditions as EC\n",
    "\n",
    "# Criar uma variável para armazenar as informações de login\n",
    "credenciais = {\n",
    "    'cpf': 'usuario',\n",
    "    'senha': 'usuario'\n",
    "}\n",
    "\n",
    "# Instalar e iniciar o serviço do ChromeDriver\n",
    "servico = Service(ChromeDriverManager().install())\n",
    "navegador = webdriver.Chrome(service=servico)\n",
    "\n",
    "# Acessar a página de login e preencher as credenciais\n",
    "navegador.get('https://visita.seape.df.gov.br/login.xhtml')\n",
    "navegador.find_element(By.XPATH, '//*[@id=\"formLogin:cpfCampo\"]').send_keys(credenciais['cpf'])\n",
    "navegador.find_element(By.XPATH, '//*[@id=\"formLogin:carteirinha\"]').send_keys(credenciais['senha'])\n",
    "navegador.find_element(By.XPATH, '//*[@id=\"formLogin:btnEmitir\"]/span[2]').click()\n",
    "\n",
    "# Esperar o formulário de login carregar\n",
    "WebDriverWait(navegador, 10).until(\n",
    "    EC.visibility_of_element_located((By.XPATH, '//*[@id=\"frm:j_idt57\"]/span[2]'))\n",
    ")\n",
    "\n",
    "# Preencher o formulário\n",
    "navegador.find_element(By.XPATH, '//*[@id=\"frm:j_idt57\"]/span[2]').click()\n",
    "navegador.find_element(By.XPATH, '//*[@id=\"frm:mask\"]').clear()\n",
    "navegador.find_element(By.XPATH, '//*[@id=\"frm:mask\"]').send_keys('50')\n",
    "\n",
    "# Esperar o elemento ser clicável\n",
    "wait = WebDriverWait(navegador, 100)\n",
    "\n",
    "while True:\n",
    "    try:\n",
    "        element = wait.until(EC.element_to_be_clickable((By.XPATH, '//*[@id=\"frm:j_idt74:0:j_idt76_content\"]/table/tfoot/tr/td')))\n",
    "        break\n",
    "    except:\n",
    "        pass\n",
    "    \n",
    "# Clicar no elemento\n",
    "element.click()\n"
   ]
  },
  {
   "cell_type": "code",
   "execution_count": null,
   "id": "20495e9c",
   "metadata": {},
   "outputs": [],
   "source": []
  }
 ],
 "metadata": {
  "kernelspec": {
   "display_name": "Python 3",
   "language": "python",
   "name": "python3"
  },
  "language_info": {
   "codemirror_mode": {
    "name": "ipython",
    "version": 3
   },
   "file_extension": ".py",
   "mimetype": "text/x-python",
   "name": "python",
   "nbconvert_exporter": "python",
   "pygments_lexer": "ipython3",
   "version": "3.11.1"
  },
  "vscode": {
   "interpreter": {
    "hash": "aee8b7b246df8f9039afb4144a1f6fd8d2ca17a180786b69acc140d282b71a49"
   }
  }
 },
 "nbformat": 4,
 "nbformat_minor": 5
}
